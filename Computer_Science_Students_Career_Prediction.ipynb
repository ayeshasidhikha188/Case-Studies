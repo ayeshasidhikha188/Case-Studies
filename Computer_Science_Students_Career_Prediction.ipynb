{
 "cells": [
  {
   "cell_type": "markdown",
   "id": "b880ed44-b7c7-4237-92e9-bd62fd3864ab",
   "metadata": {},
   "source": [
    "link  https://www.kaggle.com/datasets/devildyno/computer-science-students-career-prediction"
   ]
  },
  {
   "cell_type": "code",
   "execution_count": 124,
   "id": "c706d4ce-d725-4ba8-9af4-a611f7451110",
   "metadata": {},
   "outputs": [],
   "source": [
    "import pandas as pd\n",
    "data = pd.read_csv(r\"C:\\Users\\mdimr\\Downloads\\archive (4)\\cs_students.csv\")"
   ]
  },
  {
   "cell_type": "code",
   "execution_count": 125,
   "id": "bc972b16-bb8b-41e5-b262-08de13e1d0a2",
   "metadata": {},
   "outputs": [
    {
     "data": {
      "text/html": [
       "<div>\n",
       "<style scoped>\n",
       "    .dataframe tbody tr th:only-of-type {\n",
       "        vertical-align: middle;\n",
       "    }\n",
       "\n",
       "    .dataframe tbody tr th {\n",
       "        vertical-align: top;\n",
       "    }\n",
       "\n",
       "    .dataframe thead th {\n",
       "        text-align: right;\n",
       "    }\n",
       "</style>\n",
       "<table border=\"1\" class=\"dataframe\">\n",
       "  <thead>\n",
       "    <tr style=\"text-align: right;\">\n",
       "      <th></th>\n",
       "      <th>Student ID</th>\n",
       "      <th>Name</th>\n",
       "      <th>Gender</th>\n",
       "      <th>Age</th>\n",
       "      <th>GPA</th>\n",
       "      <th>Major</th>\n",
       "      <th>Interested Domain</th>\n",
       "      <th>Projects</th>\n",
       "      <th>Future Career</th>\n",
       "      <th>Python</th>\n",
       "      <th>SQL</th>\n",
       "      <th>Java</th>\n",
       "    </tr>\n",
       "  </thead>\n",
       "  <tbody>\n",
       "    <tr>\n",
       "      <th>0</th>\n",
       "      <td>1</td>\n",
       "      <td>John Smith</td>\n",
       "      <td>Male</td>\n",
       "      <td>21</td>\n",
       "      <td>3.5</td>\n",
       "      <td>Computer Science</td>\n",
       "      <td>Artificial Intelligence</td>\n",
       "      <td>Chatbot Development</td>\n",
       "      <td>Machine Learning Researcher</td>\n",
       "      <td>Strong</td>\n",
       "      <td>Strong</td>\n",
       "      <td>Weak</td>\n",
       "    </tr>\n",
       "    <tr>\n",
       "      <th>1</th>\n",
       "      <td>2</td>\n",
       "      <td>Alice Johnson</td>\n",
       "      <td>Female</td>\n",
       "      <td>20</td>\n",
       "      <td>3.2</td>\n",
       "      <td>Computer Science</td>\n",
       "      <td>Data Science</td>\n",
       "      <td>Data Analytics</td>\n",
       "      <td>Data Scientist</td>\n",
       "      <td>Average</td>\n",
       "      <td>Strong</td>\n",
       "      <td>Weak</td>\n",
       "    </tr>\n",
       "    <tr>\n",
       "      <th>2</th>\n",
       "      <td>3</td>\n",
       "      <td>Robert Davis</td>\n",
       "      <td>Male</td>\n",
       "      <td>22</td>\n",
       "      <td>3.8</td>\n",
       "      <td>Computer Science</td>\n",
       "      <td>Software Development</td>\n",
       "      <td>E-commerce Website</td>\n",
       "      <td>Software Engineer</td>\n",
       "      <td>Strong</td>\n",
       "      <td>Strong</td>\n",
       "      <td>Average</td>\n",
       "    </tr>\n",
       "    <tr>\n",
       "      <th>3</th>\n",
       "      <td>4</td>\n",
       "      <td>Emily Wilson</td>\n",
       "      <td>Female</td>\n",
       "      <td>21</td>\n",
       "      <td>3.7</td>\n",
       "      <td>Computer Science</td>\n",
       "      <td>Web Development</td>\n",
       "      <td>Full-Stack Web App</td>\n",
       "      <td>Web Developer</td>\n",
       "      <td>Weak</td>\n",
       "      <td>Strong</td>\n",
       "      <td>Strong</td>\n",
       "    </tr>\n",
       "    <tr>\n",
       "      <th>4</th>\n",
       "      <td>5</td>\n",
       "      <td>Michael Brown</td>\n",
       "      <td>Male</td>\n",
       "      <td>23</td>\n",
       "      <td>3.4</td>\n",
       "      <td>Computer Science</td>\n",
       "      <td>Cybersecurity</td>\n",
       "      <td>Network Security</td>\n",
       "      <td>Information Security Analyst</td>\n",
       "      <td>Average</td>\n",
       "      <td>Weak</td>\n",
       "      <td>Strong</td>\n",
       "    </tr>\n",
       "    <tr>\n",
       "      <th>...</th>\n",
       "      <td>...</td>\n",
       "      <td>...</td>\n",
       "      <td>...</td>\n",
       "      <td>...</td>\n",
       "      <td>...</td>\n",
       "      <td>...</td>\n",
       "      <td>...</td>\n",
       "      <td>...</td>\n",
       "      <td>...</td>\n",
       "      <td>...</td>\n",
       "      <td>...</td>\n",
       "      <td>...</td>\n",
       "    </tr>\n",
       "    <tr>\n",
       "      <th>175</th>\n",
       "      <td>176</td>\n",
       "      <td>Elijah Davis</td>\n",
       "      <td>Male</td>\n",
       "      <td>22</td>\n",
       "      <td>3.7</td>\n",
       "      <td>Computer Science</td>\n",
       "      <td>Web Development</td>\n",
       "      <td>Full-Stack Web App</td>\n",
       "      <td>Web Developer</td>\n",
       "      <td>Weak</td>\n",
       "      <td>Strong</td>\n",
       "      <td>Strong</td>\n",
       "    </tr>\n",
       "    <tr>\n",
       "      <th>176</th>\n",
       "      <td>177</td>\n",
       "      <td>Emma Johnson</td>\n",
       "      <td>Female</td>\n",
       "      <td>20</td>\n",
       "      <td>3.6</td>\n",
       "      <td>Computer Science</td>\n",
       "      <td>Cybersecurity</td>\n",
       "      <td>Security Auditing</td>\n",
       "      <td>Information Security Analyst</td>\n",
       "      <td>Strong</td>\n",
       "      <td>Average</td>\n",
       "      <td>Weak</td>\n",
       "    </tr>\n",
       "    <tr>\n",
       "      <th>177</th>\n",
       "      <td>178</td>\n",
       "      <td>Liam Wilson</td>\n",
       "      <td>Male</td>\n",
       "      <td>21</td>\n",
       "      <td>3.4</td>\n",
       "      <td>Computer Science</td>\n",
       "      <td>Machine Learning</td>\n",
       "      <td>Natural Language Processing</td>\n",
       "      <td>Machine Learning Engineer</td>\n",
       "      <td>Strong</td>\n",
       "      <td>Average</td>\n",
       "      <td>Weak</td>\n",
       "    </tr>\n",
       "    <tr>\n",
       "      <th>178</th>\n",
       "      <td>179</td>\n",
       "      <td>Sophia Johnson</td>\n",
       "      <td>Female</td>\n",
       "      <td>22</td>\n",
       "      <td>3.5</td>\n",
       "      <td>Computer Science</td>\n",
       "      <td>Database Management</td>\n",
       "      <td>SQL Database Administration</td>\n",
       "      <td>Database Administrator</td>\n",
       "      <td>Weak</td>\n",
       "      <td>Strong</td>\n",
       "      <td>Average</td>\n",
       "    </tr>\n",
       "    <tr>\n",
       "      <th>179</th>\n",
       "      <td>180</td>\n",
       "      <td>Michael Brown</td>\n",
       "      <td>Male</td>\n",
       "      <td>23</td>\n",
       "      <td>3.7</td>\n",
       "      <td>Computer Science</td>\n",
       "      <td>Cloud Computing</td>\n",
       "      <td>Cloud Solution Architecture</td>\n",
       "      <td>Cloud Solutions Architect</td>\n",
       "      <td>Strong</td>\n",
       "      <td>Strong</td>\n",
       "      <td>Weak</td>\n",
       "    </tr>\n",
       "  </tbody>\n",
       "</table>\n",
       "<p>180 rows × 12 columns</p>\n",
       "</div>"
      ],
      "text/plain": [
       "     Student ID            Name  Gender  Age  GPA             Major  \\\n",
       "0             1      John Smith    Male   21  3.5  Computer Science   \n",
       "1             2   Alice Johnson  Female   20  3.2  Computer Science   \n",
       "2             3    Robert Davis    Male   22  3.8  Computer Science   \n",
       "3             4    Emily Wilson  Female   21  3.7  Computer Science   \n",
       "4             5   Michael Brown    Male   23  3.4  Computer Science   \n",
       "..          ...             ...     ...  ...  ...               ...   \n",
       "175         176    Elijah Davis    Male   22  3.7  Computer Science   \n",
       "176         177    Emma Johnson  Female   20  3.6  Computer Science   \n",
       "177         178     Liam Wilson    Male   21  3.4  Computer Science   \n",
       "178         179  Sophia Johnson  Female   22  3.5  Computer Science   \n",
       "179         180   Michael Brown    Male   23  3.7  Computer Science   \n",
       "\n",
       "           Interested Domain                     Projects  \\\n",
       "0    Artificial Intelligence          Chatbot Development   \n",
       "1               Data Science               Data Analytics   \n",
       "2       Software Development           E-commerce Website   \n",
       "3            Web Development           Full-Stack Web App   \n",
       "4              Cybersecurity             Network Security   \n",
       "..                       ...                          ...   \n",
       "175          Web Development           Full-Stack Web App   \n",
       "176            Cybersecurity            Security Auditing   \n",
       "177         Machine Learning  Natural Language Processing   \n",
       "178      Database Management  SQL Database Administration   \n",
       "179          Cloud Computing  Cloud Solution Architecture   \n",
       "\n",
       "                    Future Career   Python      SQL     Java  \n",
       "0     Machine Learning Researcher   Strong   Strong     Weak  \n",
       "1                  Data Scientist  Average   Strong     Weak  \n",
       "2               Software Engineer   Strong   Strong  Average  \n",
       "3                   Web Developer     Weak   Strong   Strong  \n",
       "4    Information Security Analyst  Average     Weak   Strong  \n",
       "..                            ...      ...      ...      ...  \n",
       "175                 Web Developer     Weak   Strong   Strong  \n",
       "176  Information Security Analyst   Strong  Average     Weak  \n",
       "177     Machine Learning Engineer   Strong  Average     Weak  \n",
       "178        Database Administrator     Weak   Strong  Average  \n",
       "179     Cloud Solutions Architect   Strong   Strong     Weak  \n",
       "\n",
       "[180 rows x 12 columns]"
      ]
     },
     "execution_count": 125,
     "metadata": {},
     "output_type": "execute_result"
    }
   ],
   "source": [
    "data"
   ]
  },
  {
   "cell_type": "code",
   "execution_count": 126,
   "id": "d8c04b5a",
   "metadata": {},
   "outputs": [
    {
     "data": {
      "text/plain": [
       "(180, 12)"
      ]
     },
     "execution_count": 126,
     "metadata": {},
     "output_type": "execute_result"
    }
   ],
   "source": [
    "data.shape"
   ]
  },
  {
   "cell_type": "markdown",
   "id": "a187462d-10ab-4ed9-be07-e7596fda049a",
   "metadata": {},
   "source": [
    "1. What is the average GPA of students who are interested in Data Science?\n",
    "2. What is the percentage distribution of students by gender?\n",
    "3. How many students have \"Strong\" Python skills and are interested in Software Development?\n",
    "4. What is the distribution of students' future careers across different majors?\n",
    "5. What is the average age of students with \"Strong\" SQL skills?\n",
    "6. Who are the students with a GPA above 3.8 and \"Strong\" Java skills?\n",
    "7. How many students are interested in Cybersecurity and have worked on Network Security projects?\n",
    "8. What is the correlation between age and GPA among students?\n",
    "9. How many students have \"Weak\" skills in both Python and Java?\n",
    "10. What are the top 3 most common projects worked on by students?\n",
    "11. What is the average GPA of students interested in Artificial Intelligence?\n",
    "12. What is the percentage of students aiming to become Software Engineers?\n",
    "13. What is the distribution of Python skills across different future careers?\n",
    "14. How many students have \"Strong\" skills in all three programming languages (Python, SQL, Java)?\n",
    "15. What is the most popular interested domain for students with a GPA below 3.0?\n",
    "16. Who are the students with \"Weak\" SQL skills and want to pursue a career in Data Science?\n",
    "17. What is the gender distribution of students with a GPA above 3.5?\n",
    "18. How many students aged 21 and above are interested in Web Development?\n",
    "19. Which future career is most common among female students?\n",
    "20. What is the average GPA of students aiming to work in Machine Learning?\n"
   ]
  },
  {
   "cell_type": "markdown",
   "id": "a9f1c7b9",
   "metadata": {},
   "source": [
    "## 1.What is the average GPA of students who are interested in Data Science?"
   ]
  },
  {
   "cell_type": "code",
   "execution_count": 127,
   "id": "28ccd52e",
   "metadata": {},
   "outputs": [
    {
     "data": {
      "text/plain": [
       "3.4615384615384617"
      ]
     },
     "execution_count": 127,
     "metadata": {},
     "output_type": "execute_result"
    }
   ],
   "source": [
    "df=data[data['Interested Domain']=='Data Science']\n",
    "df['GPA'].mean()"
   ]
  },
  {
   "cell_type": "markdown",
   "id": "da6adfca",
   "metadata": {},
   "source": [
    "## 2 What is the percentage distribution of students by gender?"
   ]
  },
  {
   "cell_type": "code",
   "execution_count": 128,
   "id": "0b670c70",
   "metadata": {},
   "outputs": [
    {
     "data": {
      "text/plain": [
       "Male      61.538462\n",
       "Female    38.461538\n",
       "Name: Gender, dtype: float64"
      ]
     },
     "execution_count": 128,
     "metadata": {},
     "output_type": "execute_result"
    }
   ],
   "source": [
    "gender_counts = df['Gender'].value_counts()\n",
    "gender_percentage = (gender_counts / gender_counts.sum()) * 100\n",
    "gender_percentage"
   ]
  },
  {
   "cell_type": "markdown",
   "id": "f77d62b4",
   "metadata": {},
   "source": [
    "## 3.How many students have \"Strong\" Python skills and are interested in Software Development?"
   ]
  },
  {
   "cell_type": "code",
   "execution_count": 129,
   "id": "b7094895",
   "metadata": {},
   "outputs": [
    {
     "data": {
      "text/plain": [
       "Student ID           5\n",
       "Name                 5\n",
       "Gender               5\n",
       "Age                  5\n",
       "GPA                  5\n",
       "Major                5\n",
       "Interested Domain    5\n",
       "Projects             5\n",
       "Future Career        5\n",
       "Python               5\n",
       "SQL                  5\n",
       "Java                 5\n",
       "dtype: int64"
      ]
     },
     "execution_count": 129,
     "metadata": {},
     "output_type": "execute_result"
    }
   ],
   "source": [
    "df=data[data['Python'] == 'Strong']\n",
    "df[df['Interested Domain'] == 'Software Development'].count()\n"
   ]
  },
  {
   "cell_type": "markdown",
   "id": "2c78c51d",
   "metadata": {},
   "source": [
    "## 4. What is the distribution of students' future careers across different majors?"
   ]
  },
  {
   "cell_type": "code",
   "execution_count": 130,
   "id": "46c47ef8",
   "metadata": {},
   "outputs": [
    {
     "data": {
      "text/plain": [
       "Major             Future Career               \n",
       "Computer Science  Web Developer                   19\n",
       "                  Information Security Analyst    17\n",
       "                  Mobile App Developer            17\n",
       "                  Cloud Solutions Architect       16\n",
       "                  Database Administrator          16\n",
       "                  Software Engineer               14\n",
       "                  Machine Learning Engineer       13\n",
       "                  NLP Research Scientist          11\n",
       "                  Graphics Programmer              9\n",
       "                  Data Scientist                   8\n",
       "                  AI Researcher                    6\n",
       "                  Data Analyst                     6\n",
       "                  Game Developer                   4\n",
       "                  Bioinformatician                 2\n",
       "                  Healthcare IT Specialist         2\n",
       "                  Quantum Computing Researcher     2\n",
       "                  UX Designer                      2\n",
       "                  Blockchain Engineer              1\n",
       "                  Computer Vision Engineer         1\n",
       "                  Data Privacy Specialist          1\n",
       "                  DevOps Engineer                  1\n",
       "                  Digital Forensics Specialist     1\n",
       "                  Distributed Systems Engineer     1\n",
       "                  Embedded Software Engineer       1\n",
       "                  Ethical Hacker                   1\n",
       "                  Geospatial Analyst               1\n",
       "                  IoT Developer                    1\n",
       "                  Machine Learning Researcher      1\n",
       "                  NLP Engineer                     1\n",
       "                  Robotics Engineer                1\n",
       "                  SEO Specialist                   1\n",
       "                  Security Analyst                 1\n",
       "                  VR Developer                     1\n",
       "Name: Future Career, dtype: int64"
      ]
     },
     "execution_count": 130,
     "metadata": {},
     "output_type": "execute_result"
    }
   ],
   "source": [
    "data.groupby('Major')['Future Career'].value_counts()\n"
   ]
  },
  {
   "cell_type": "markdown",
   "id": "1bf435c0",
   "metadata": {},
   "source": [
    "## 6.. How many students have \"Strong\" Python skills and are interested in Software Development?"
   ]
  },
  {
   "cell_type": "code",
   "execution_count": 133,
   "id": "75288768",
   "metadata": {},
   "outputs": [
    {
     "data": {
      "text/html": [
       "<div>\n",
       "<style scoped>\n",
       "    .dataframe tbody tr th:only-of-type {\n",
       "        vertical-align: middle;\n",
       "    }\n",
       "\n",
       "    .dataframe tbody tr th {\n",
       "        vertical-align: top;\n",
       "    }\n",
       "\n",
       "    .dataframe thead th {\n",
       "        text-align: right;\n",
       "    }\n",
       "</style>\n",
       "<table border=\"1\" class=\"dataframe\">\n",
       "  <thead>\n",
       "    <tr style=\"text-align: right;\">\n",
       "      <th></th>\n",
       "      <th>Student ID</th>\n",
       "      <th>Name</th>\n",
       "      <th>Gender</th>\n",
       "      <th>Age</th>\n",
       "      <th>GPA</th>\n",
       "      <th>Major</th>\n",
       "      <th>Interested Domain</th>\n",
       "      <th>Projects</th>\n",
       "      <th>Future Career</th>\n",
       "      <th>Python</th>\n",
       "      <th>SQL</th>\n",
       "      <th>Java</th>\n",
       "    </tr>\n",
       "  </thead>\n",
       "  <tbody>\n",
       "    <tr>\n",
       "      <th>81</th>\n",
       "      <td>82</td>\n",
       "      <td>Agent Fitz</td>\n",
       "      <td>Male</td>\n",
       "      <td>35</td>\n",
       "      <td>3.9</td>\n",
       "      <td>Computer Science</td>\n",
       "      <td>Software Development</td>\n",
       "      <td>Social Media Platform</td>\n",
       "      <td>Software Engineer</td>\n",
       "      <td>Average</td>\n",
       "      <td>Weak</td>\n",
       "      <td>Strong</td>\n",
       "    </tr>\n",
       "    <tr>\n",
       "      <th>109</th>\n",
       "      <td>110</td>\n",
       "      <td>Laura Lee</td>\n",
       "      <td>Female</td>\n",
       "      <td>21</td>\n",
       "      <td>3.9</td>\n",
       "      <td>Computer Science</td>\n",
       "      <td>Distributed Systems</td>\n",
       "      <td>Distributed Systems Architect</td>\n",
       "      <td>Distributed Systems Engineer</td>\n",
       "      <td>Weak</td>\n",
       "      <td>Average</td>\n",
       "      <td>Strong</td>\n",
       "    </tr>\n",
       "  </tbody>\n",
       "</table>\n",
       "</div>"
      ],
      "text/plain": [
       "     Student ID        Name  Gender  Age  GPA             Major  \\\n",
       "81           82  Agent Fitz    Male   35  3.9  Computer Science   \n",
       "109         110   Laura Lee  Female   21  3.9  Computer Science   \n",
       "\n",
       "        Interested Domain                       Projects  \\\n",
       "81   Software Development          Social Media Platform   \n",
       "109   Distributed Systems  Distributed Systems Architect   \n",
       "\n",
       "                    Future Career   Python      SQL    Java  \n",
       "81              Software Engineer  Average     Weak  Strong  \n",
       "109  Distributed Systems Engineer     Weak  Average  Strong  "
      ]
     },
     "execution_count": 133,
     "metadata": {},
     "output_type": "execute_result"
    }
   ],
   "source": [
    "data[(data['GPA'] > 3.8) & (data['Java'] == 'Strong')]"
   ]
  },
  {
   "cell_type": "markdown",
   "id": "9cf60fcf",
   "metadata": {},
   "source": [
    "## 5. What is the average age of students with \"Strong\" SQL skills?"
   ]
  },
  {
   "cell_type": "code",
   "execution_count": 134,
   "id": "0481b20b",
   "metadata": {},
   "outputs": [
    {
     "data": {
      "text/plain": [
       "22.253164556962027"
      ]
     },
     "execution_count": 134,
     "metadata": {},
     "output_type": "execute_result"
    }
   ],
   "source": [
    "df=(data[data['SQL']=='Strong'])\n",
    "df['Age'].mean()"
   ]
  },
  {
   "cell_type": "markdown",
   "id": "8705fda8",
   "metadata": {},
   "source": [
    "## 6.. How many students have \"Strong\" Python skills and are interested in Software Development?"
   ]
  },
  {
   "cell_type": "code",
   "execution_count": 135,
   "id": "8f963fa9",
   "metadata": {},
   "outputs": [
    {
     "data": {
      "text/html": [
       "<div>\n",
       "<style scoped>\n",
       "    .dataframe tbody tr th:only-of-type {\n",
       "        vertical-align: middle;\n",
       "    }\n",
       "\n",
       "    .dataframe tbody tr th {\n",
       "        vertical-align: top;\n",
       "    }\n",
       "\n",
       "    .dataframe thead th {\n",
       "        text-align: right;\n",
       "    }\n",
       "</style>\n",
       "<table border=\"1\" class=\"dataframe\">\n",
       "  <thead>\n",
       "    <tr style=\"text-align: right;\">\n",
       "      <th></th>\n",
       "      <th>Student ID</th>\n",
       "      <th>Name</th>\n",
       "      <th>Gender</th>\n",
       "      <th>Age</th>\n",
       "      <th>GPA</th>\n",
       "      <th>Major</th>\n",
       "      <th>Interested Domain</th>\n",
       "      <th>Projects</th>\n",
       "      <th>Future Career</th>\n",
       "      <th>Python</th>\n",
       "      <th>SQL</th>\n",
       "      <th>Java</th>\n",
       "    </tr>\n",
       "  </thead>\n",
       "  <tbody>\n",
       "    <tr>\n",
       "      <th>81</th>\n",
       "      <td>82</td>\n",
       "      <td>Agent Fitz</td>\n",
       "      <td>Male</td>\n",
       "      <td>35</td>\n",
       "      <td>3.9</td>\n",
       "      <td>Computer Science</td>\n",
       "      <td>Software Development</td>\n",
       "      <td>Social Media Platform</td>\n",
       "      <td>Software Engineer</td>\n",
       "      <td>Average</td>\n",
       "      <td>Weak</td>\n",
       "      <td>Strong</td>\n",
       "    </tr>\n",
       "    <tr>\n",
       "      <th>109</th>\n",
       "      <td>110</td>\n",
       "      <td>Laura Lee</td>\n",
       "      <td>Female</td>\n",
       "      <td>21</td>\n",
       "      <td>3.9</td>\n",
       "      <td>Computer Science</td>\n",
       "      <td>Distributed Systems</td>\n",
       "      <td>Distributed Systems Architect</td>\n",
       "      <td>Distributed Systems Engineer</td>\n",
       "      <td>Weak</td>\n",
       "      <td>Average</td>\n",
       "      <td>Strong</td>\n",
       "    </tr>\n",
       "  </tbody>\n",
       "</table>\n",
       "</div>"
      ],
      "text/plain": [
       "     Student ID        Name  Gender  Age  GPA             Major  \\\n",
       "81           82  Agent Fitz    Male   35  3.9  Computer Science   \n",
       "109         110   Laura Lee  Female   21  3.9  Computer Science   \n",
       "\n",
       "        Interested Domain                       Projects  \\\n",
       "81   Software Development          Social Media Platform   \n",
       "109   Distributed Systems  Distributed Systems Architect   \n",
       "\n",
       "                    Future Career   Python      SQL    Java  \n",
       "81              Software Engineer  Average     Weak  Strong  \n",
       "109  Distributed Systems Engineer     Weak  Average  Strong  "
      ]
     },
     "execution_count": 135,
     "metadata": {},
     "output_type": "execute_result"
    }
   ],
   "source": [
    "data[(data['GPA'] > 3.8) & (data['Java'] == 'Strong')]"
   ]
  },
  {
   "cell_type": "markdown",
   "id": "9f93d231",
   "metadata": {},
   "source": [
    "## 7. How many students are interested in Cybersecurity and have worked on Network Security projects?"
   ]
  },
  {
   "cell_type": "code",
   "execution_count": 136,
   "id": "0e57af6f",
   "metadata": {},
   "outputs": [
    {
     "data": {
      "text/plain": [
       "Student ID           14\n",
       "Name                 14\n",
       "Gender               14\n",
       "Age                  14\n",
       "GPA                  14\n",
       "Major                14\n",
       "Interested Domain    14\n",
       "Projects             14\n",
       "Future Career        14\n",
       "Python               14\n",
       "SQL                  14\n",
       "Java                 14\n",
       "dtype: int64"
      ]
     },
     "execution_count": 136,
     "metadata": {},
     "output_type": "execute_result"
    }
   ],
   "source": [
    "data[(data['Interested Domain'] == 'Cybersecurity') & (data['Projects'] == 'Network Security')].count()\n"
   ]
  },
  {
   "cell_type": "markdown",
   "id": "86da1f21",
   "metadata": {},
   "source": [
    "## 8. What is the correlation between age and GPA among students?"
   ]
  },
  {
   "cell_type": "code",
   "execution_count": 137,
   "id": "dff1122c",
   "metadata": {},
   "outputs": [
    {
     "data": {
      "text/plain": [
       "0.20292469159722118"
      ]
     },
     "execution_count": 137,
     "metadata": {},
     "output_type": "execute_result"
    }
   ],
   "source": [
    "corr=data['Age'].corr(data['GPA'])\n",
    "corr"
   ]
  },
  {
   "cell_type": "markdown",
   "id": "5ca7aa19",
   "metadata": {},
   "source": [
    "## 9. How many students have \"Weak\" skills in both Python and Java?"
   ]
  },
  {
   "cell_type": "code",
   "execution_count": 138,
   "id": "08b63605",
   "metadata": {},
   "outputs": [
    {
     "data": {
      "text/plain": [
       "Student ID           0\n",
       "Name                 0\n",
       "Gender               0\n",
       "Age                  0\n",
       "GPA                  0\n",
       "Major                0\n",
       "Interested Domain    0\n",
       "Projects             0\n",
       "Future Career        0\n",
       "Python               0\n",
       "SQL                  0\n",
       "Java                 0\n",
       "dtype: int64"
      ]
     },
     "execution_count": 138,
     "metadata": {},
     "output_type": "execute_result"
    }
   ],
   "source": [
    "data[(data['Python'] == 'Weak') & (data['Java']=='Weak')].count()"
   ]
  },
  {
   "cell_type": "markdown",
   "id": "f319dd04",
   "metadata": {},
   "source": [
    "## 10. What are the top 3 most common projects worked on by students?"
   ]
  },
  {
   "cell_type": "code",
   "execution_count": 139,
   "id": "505704bd",
   "metadata": {},
   "outputs": [
    {
     "data": {
      "text/plain": [
       "Natural Language Processing    14\n",
       "Network Security               14\n",
       "E-commerce Website             13\n",
       "Name: Projects, dtype: int64"
      ]
     },
     "execution_count": 139,
     "metadata": {},
     "output_type": "execute_result"
    }
   ],
   "source": [
    "data['Projects'].value_counts().head(3)"
   ]
  },
  {
   "cell_type": "markdown",
   "id": "5396c2bc",
   "metadata": {},
   "source": [
    "## 11. What is the average GPA of students interested in Artificial Intelligence?"
   ]
  },
  {
   "cell_type": "code",
   "execution_count": 140,
   "id": "1743e15a",
   "metadata": {},
   "outputs": [
    {
     "data": {
      "text/plain": [
       "3.6842105263157894"
      ]
     },
     "execution_count": 140,
     "metadata": {},
     "output_type": "execute_result"
    }
   ],
   "source": [
    "Gpa=data[data[\"Interested Domain\"] == 'Artificial Intelligence']\n",
    "Gpa['GPA'].mean()"
   ]
  },
  {
   "cell_type": "markdown",
   "id": "6ffd7f9b",
   "metadata": {},
   "source": [
    "## 12. What is the percentage of students aiming to become Software Engineers?"
   ]
  },
  {
   "cell_type": "code",
   "execution_count": 141,
   "id": "bda38107",
   "metadata": {},
   "outputs": [
    {
     "data": {
      "text/plain": [
       "Student ID           7.777778\n",
       "Name                 7.777778\n",
       "Gender               7.777778\n",
       "Age                  7.777778\n",
       "GPA                  7.777778\n",
       "Major                7.777778\n",
       "Interested Domain    7.777778\n",
       "Projects             7.777778\n",
       "Future Career        7.777778\n",
       "Python               7.777778\n",
       "SQL                  7.777778\n",
       "Java                 7.777778\n",
       "dtype: float64"
      ]
     },
     "execution_count": 141,
     "metadata": {},
     "output_type": "execute_result"
    }
   ],
   "source": [
    "(data[data['Future Career'] == 'Software Engineer'].count()/data.shape[0])*100"
   ]
  },
  {
   "cell_type": "markdown",
   "id": "e0c87795",
   "metadata": {},
   "source": [
    "## 13. What is the distribution of Python skills across different future careers?"
   ]
  },
  {
   "cell_type": "code",
   "execution_count": 142,
   "id": "e9d20378",
   "metadata": {},
   "outputs": [
    {
     "data": {
      "text/plain": [
       "Future Career                 Python \n",
       "AI Researcher                 Strong      6\n",
       "Bioinformatician              Weak        2\n",
       "Blockchain Engineer           Weak        1\n",
       "Cloud Solutions Architect     Strong     11\n",
       "                              Weak        5\n",
       "Computer Vision Engineer      Strong      1\n",
       "Data Analyst                  Average     4\n",
       "                              Strong      2\n",
       "Data Privacy Specialist       Weak        1\n",
       "Data Scientist                Average     7\n",
       "                              Strong      1\n",
       "Database Administrator        Average    10\n",
       "                              Weak        6\n",
       "DevOps Engineer               Strong      1\n",
       "Digital Forensics Specialist  Weak        1\n",
       "Distributed Systems Engineer  Weak        1\n",
       "Embedded Software Engineer    Weak        1\n",
       "Ethical Hacker                Strong      1\n",
       "Game Developer                Weak        4\n",
       "Geospatial Analyst            Weak        1\n",
       "Graphics Programmer           Weak        9\n",
       "Healthcare IT Specialist      Weak        2\n",
       "Information Security Analyst  Average     8\n",
       "                              Weak        6\n",
       "                              Strong      3\n",
       "IoT Developer                 Weak        1\n",
       "Machine Learning Engineer     Strong     13\n",
       "Machine Learning Researcher   Strong      1\n",
       "Mobile App Developer          Average    12\n",
       "                              Weak        4\n",
       "                              Strong      1\n",
       "NLP Engineer                  Strong      1\n",
       "NLP Research Scientist        Strong     11\n",
       "Quantum Computing Researcher  Strong      1\n",
       "                              Weak        1\n",
       "Robotics Engineer             Strong      1\n",
       "SEO Specialist                Weak        1\n",
       "Security Analyst              Strong      1\n",
       "Software Engineer             Strong      9\n",
       "                              Average     5\n",
       "UX Designer                   Strong      1\n",
       "                              Weak        1\n",
       "VR Developer                  Weak        1\n",
       "Web Developer                 Weak       15\n",
       "                              Strong      4\n",
       "Name: Python, dtype: int64"
      ]
     },
     "execution_count": 142,
     "metadata": {},
     "output_type": "execute_result"
    }
   ],
   "source": [
    "df=data.groupby('Future Career')['Python'].value_counts()\n",
    "df"
   ]
  },
  {
   "cell_type": "markdown",
   "id": "02ac387c",
   "metadata": {},
   "source": [
    "## 14. How many students have \"Strong\" skills in all three programming languages (Python, SQL, Java)?"
   ]
  },
  {
   "cell_type": "code",
   "execution_count": 143,
   "id": "6d303fd4",
   "metadata": {},
   "outputs": [
    {
     "data": {
      "text/plain": [
       "Student ID           0\n",
       "Name                 0\n",
       "Gender               0\n",
       "Age                  0\n",
       "GPA                  0\n",
       "Major                0\n",
       "Interested Domain    0\n",
       "Projects             0\n",
       "Future Career        0\n",
       "Python               0\n",
       "SQL                  0\n",
       "Java                 0\n",
       "dtype: int64"
      ]
     },
     "execution_count": 143,
     "metadata": {},
     "output_type": "execute_result"
    }
   ],
   "source": [
    "data[(data['Python'] == 'Strong') & (data['SQL']=='Strong') & (data['Java']=='Strong') ].count()"
   ]
  },
  {
   "cell_type": "markdown",
   "id": "b2bb18ad",
   "metadata": {},
   "source": [
    "## 15. What is the most popular interested domain for students with a GPA below 3.0?"
   ]
  },
  {
   "cell_type": "code",
   "execution_count": 144,
   "id": "5ec83141",
   "metadata": {},
   "outputs": [
    {
     "data": {
      "text/html": [
       "<div>\n",
       "<style scoped>\n",
       "    .dataframe tbody tr th:only-of-type {\n",
       "        vertical-align: middle;\n",
       "    }\n",
       "\n",
       "    .dataframe tbody tr th {\n",
       "        vertical-align: top;\n",
       "    }\n",
       "\n",
       "    .dataframe thead th {\n",
       "        text-align: right;\n",
       "    }\n",
       "</style>\n",
       "<table border=\"1\" class=\"dataframe\">\n",
       "  <thead>\n",
       "    <tr style=\"text-align: right;\">\n",
       "      <th></th>\n",
       "      <th>Student ID</th>\n",
       "      <th>Name</th>\n",
       "      <th>Gender</th>\n",
       "      <th>Age</th>\n",
       "      <th>GPA</th>\n",
       "      <th>Major</th>\n",
       "      <th>Interested Domain</th>\n",
       "      <th>Projects</th>\n",
       "      <th>Future Career</th>\n",
       "      <th>Python</th>\n",
       "      <th>SQL</th>\n",
       "      <th>Java</th>\n",
       "    </tr>\n",
       "  </thead>\n",
       "  <tbody>\n",
       "  </tbody>\n",
       "</table>\n",
       "</div>"
      ],
      "text/plain": [
       "Empty DataFrame\n",
       "Columns: [Student ID, Name, Gender, Age, GPA, Major, Interested Domain, Projects, Future Career, Python, SQL, Java]\n",
       "Index: []"
      ]
     },
     "execution_count": 144,
     "metadata": {},
     "output_type": "execute_result"
    }
   ],
   "source": [
    "gpa=data[data['GPA'] < 3.0]\n",
    "gpa"
   ]
  },
  {
   "cell_type": "markdown",
   "id": "7860721f",
   "metadata": {},
   "source": [
    "## 16. Who are the students with \"Weak\" SQL skills and want to pursue a career in Data Science?"
   ]
  },
  {
   "cell_type": "code",
   "execution_count": 145,
   "id": "87aa3789",
   "metadata": {},
   "outputs": [
    {
     "data": {
      "text/html": [
       "<div>\n",
       "<style scoped>\n",
       "    .dataframe tbody tr th:only-of-type {\n",
       "        vertical-align: middle;\n",
       "    }\n",
       "\n",
       "    .dataframe tbody tr th {\n",
       "        vertical-align: top;\n",
       "    }\n",
       "\n",
       "    .dataframe thead th {\n",
       "        text-align: right;\n",
       "    }\n",
       "</style>\n",
       "<table border=\"1\" class=\"dataframe\">\n",
       "  <thead>\n",
       "    <tr style=\"text-align: right;\">\n",
       "      <th></th>\n",
       "      <th>Student ID</th>\n",
       "      <th>Name</th>\n",
       "      <th>Gender</th>\n",
       "      <th>Age</th>\n",
       "      <th>GPA</th>\n",
       "      <th>Major</th>\n",
       "      <th>Interested Domain</th>\n",
       "      <th>Projects</th>\n",
       "      <th>Future Career</th>\n",
       "      <th>Python</th>\n",
       "      <th>SQL</th>\n",
       "      <th>Java</th>\n",
       "    </tr>\n",
       "  </thead>\n",
       "  <tbody>\n",
       "    <tr>\n",
       "      <th>142</th>\n",
       "      <td>143</td>\n",
       "      <td>Olivia Brown</td>\n",
       "      <td>Female</td>\n",
       "      <td>22</td>\n",
       "      <td>3.5</td>\n",
       "      <td>Computer Science</td>\n",
       "      <td>Data Science</td>\n",
       "      <td>Data Mining</td>\n",
       "      <td>Data Analyst</td>\n",
       "      <td>Average</td>\n",
       "      <td>Weak</td>\n",
       "      <td>Strong</td>\n",
       "    </tr>\n",
       "    <tr>\n",
       "      <th>162</th>\n",
       "      <td>163</td>\n",
       "      <td>Olivia Brown</td>\n",
       "      <td>Female</td>\n",
       "      <td>22</td>\n",
       "      <td>3.5</td>\n",
       "      <td>Computer Science</td>\n",
       "      <td>Data Science</td>\n",
       "      <td>Data Mining</td>\n",
       "      <td>Data Analyst</td>\n",
       "      <td>Average</td>\n",
       "      <td>Weak</td>\n",
       "      <td>Strong</td>\n",
       "    </tr>\n",
       "  </tbody>\n",
       "</table>\n",
       "</div>"
      ],
      "text/plain": [
       "     Student ID          Name  Gender  Age  GPA             Major  \\\n",
       "142         143  Olivia Brown  Female   22  3.5  Computer Science   \n",
       "162         163  Olivia Brown  Female   22  3.5  Computer Science   \n",
       "\n",
       "    Interested Domain     Projects Future Career   Python   SQL    Java  \n",
       "142      Data Science  Data Mining  Data Analyst  Average  Weak  Strong  \n",
       "162      Data Science  Data Mining  Data Analyst  Average  Weak  Strong  "
      ]
     },
     "execution_count": 145,
     "metadata": {},
     "output_type": "execute_result"
    }
   ],
   "source": [
    "data[(data['SQL'] == 'Weak') & (data['Interested Domain']=='Data Science')]"
   ]
  },
  {
   "cell_type": "markdown",
   "id": "80890884",
   "metadata": {},
   "source": [
    "## 17. What is the gender distribution of students with a GPA above 3.5?"
   ]
  },
  {
   "cell_type": "code",
   "execution_count": 146,
   "id": "522f13e6",
   "metadata": {},
   "outputs": [
    {
     "data": {
      "text/plain": [
       "Male      68\n",
       "Female    49\n",
       "Name: Gender, dtype: int64"
      ]
     },
     "execution_count": 146,
     "metadata": {},
     "output_type": "execute_result"
    }
   ],
   "source": [
    "Gpa=data[data['GPA'] > 3.5]\n",
    "Gpa['Gender'].value_counts()"
   ]
  },
  {
   "cell_type": "markdown",
   "id": "a434981d",
   "metadata": {},
   "source": [
    "## 18. How many students aged 21 and above are interested in Web Development?"
   ]
  },
  {
   "cell_type": "code",
   "execution_count": 147,
   "id": "d54c6259",
   "metadata": {},
   "outputs": [
    {
     "data": {
      "text/plain": [
       "Student ID           12\n",
       "Name                 12\n",
       "Gender               12\n",
       "Age                  12\n",
       "GPA                  12\n",
       "Major                12\n",
       "Interested Domain    12\n",
       "Projects             12\n",
       "Future Career        12\n",
       "Python               12\n",
       "SQL                  12\n",
       "Java                 12\n",
       "dtype: int64"
      ]
     },
     "execution_count": 147,
     "metadata": {},
     "output_type": "execute_result"
    }
   ],
   "source": [
    "data[(data['Age'] > 21) & (data['Interested Domain']=='Web Development')].count()"
   ]
  },
  {
   "cell_type": "markdown",
   "id": "f9addc1c",
   "metadata": {},
   "source": [
    "## 19. Which future career is most common among female students?"
   ]
  },
  {
   "cell_type": "code",
   "execution_count": 148,
   "id": "46120f9a",
   "metadata": {},
   "outputs": [
    {
     "data": {
      "text/plain": [
       "'Mobile App Developer'"
      ]
     },
     "execution_count": 148,
     "metadata": {},
     "output_type": "execute_result"
    }
   ],
   "source": [
    "Female=data[data['Gender']=='Female']\n",
    "Female['Future Career'].value_counts().idxmax()"
   ]
  },
  {
   "cell_type": "markdown",
   "id": "89dab266",
   "metadata": {},
   "source": [
    "## 20. What is the average GPA of students aiming to work in Machine Learning?"
   ]
  },
  {
   "cell_type": "code",
   "execution_count": 149,
   "id": "48b99226",
   "metadata": {},
   "outputs": [
    {
     "data": {
      "text/plain": [
       "3.7461538461538457"
      ]
     },
     "execution_count": 149,
     "metadata": {},
     "output_type": "execute_result"
    }
   ],
   "source": [
    "ML= data[data['Interested Domain']=='Machine Learning']\n",
    "ML['GPA'].mean()"
   ]
  }
 ],
 "metadata": {
  "kernelspec": {
   "display_name": "Python 3 (ipykernel)",
   "language": "python",
   "name": "python3"
  },
  "language_info": {
   "codemirror_mode": {
    "name": "ipython",
    "version": 3
   },
   "file_extension": ".py",
   "mimetype": "text/x-python",
   "name": "python",
   "nbconvert_exporter": "python",
   "pygments_lexer": "ipython3",
   "version": "3.11.5"
  }
 },
 "nbformat": 4,
 "nbformat_minor": 5
}
